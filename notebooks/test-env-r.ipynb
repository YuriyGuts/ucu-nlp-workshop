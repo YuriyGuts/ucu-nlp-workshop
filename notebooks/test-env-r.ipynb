{
 "cells": [
  {
   "cell_type": "markdown",
   "metadata": {},
   "source": [
    "<img src=\"assets/ucu-bg.jpg\" alt=\"UCU Machine Learning Workshops 2017\" style=\"height: 400px; border: 2px solid #C08050\">"
   ]
  },
  {
   "cell_type": "markdown",
   "metadata": {},
   "source": [
    "**Welcome to UCU Machine Learning Summer Workshop on NLP!**\n",
    "\n",
    "Although the working language of the workshop is Python, we provide the ability to run R notebooks just for your convenience.\n",
    "\n",
    "Feel free to test the environment and play around. Some of the most popular packages are already installed."
   ]
  },
  {
   "cell_type": "code",
   "execution_count": null,
   "metadata": {},
   "outputs": [],
   "source": [
    "packages <- installed.packages()\n",
    "packages[is.na(packages[,\"Priority\"]), c(\"Package\", \"Version\")]"
   ]
  },
  {
   "cell_type": "code",
   "execution_count": null,
   "metadata": {
    "collapsed": true
   },
   "outputs": [],
   "source": [
    "library(ggplot2)\n",
    "library(e1071)"
   ]
  },
  {
   "cell_type": "code",
   "execution_count": null,
   "metadata": {
    "scrolled": false
   },
   "outputs": [],
   "source": [
    "options(repr.plot.width=6, repr.plot.height=4)\n",
    "ggplot(data=iris, aes(x=Sepal.Length, y=Sepal.Width, color=Species)) + geom_point(size=3)"
   ]
  },
  {
   "cell_type": "code",
   "execution_count": null,
   "metadata": {},
   "outputs": [],
   "source": [
    "classifier <- naiveBayes(iris[,1:4], iris[,5])\n",
    "table(predict(classifier, iris[,-5]), iris[,5])"
   ]
  }
 ],
 "metadata": {
  "kernelspec": {
   "display_name": "R",
   "language": "R",
   "name": "ir"
  },
  "language_info": {
   "codemirror_mode": "r",
   "file_extension": ".r",
   "mimetype": "text/x-r-source",
   "name": "R",
   "pygments_lexer": "r",
   "version": "3.3.2"
  }
 },
 "nbformat": 4,
 "nbformat_minor": 2
}
